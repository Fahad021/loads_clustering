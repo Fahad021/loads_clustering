{
 "cells": [
  {
   "cell_type": "code",
   "execution_count": 1,
   "metadata": {
    "collapsed": true
   },
   "outputs": [],
   "source": [
    "import os\n",
    "import pandas as pd\n",
    "import datetime\n",
    "\n",
    "%matplotlib inline\n",
    "import matplotlib\n",
    "import numpy as np\n",
    "import matplotlib.pyplot as plt"
   ]
  },
  {
   "cell_type": "code",
   "execution_count": 29,
   "metadata": {
    "collapsed": false
   },
   "outputs": [],
   "source": [
    "import seasons\n",
    "from explorer import get_folders, get_files\n",
    "from make_df import make_df\n",
    "from calendar_funcs import get_workdays, get_all_days, get_not_workdays\n",
    "from make_calendar_df import get_business_df, get_not_working_df\n",
    "from plot_funcs import plot_range, plot_day\n",
    "from building_func import get_building_kind, get_building_state, get_building_city\n",
    "from get_peaks import get_peaks\n",
    "from make_building_model import make_building_model\n",
    "from make_buildings_feats import make_buildings_feats\n",
    "from make_buildings_dataset import make_buildings_dataset"
   ]
  },
  {
   "cell_type": "code",
   "execution_count": null,
   "metadata": {
    "collapsed": true
   },
   "outputs": [],
   "source": [
    "root = \"COMMERCIAL_LOAD_DATA_E_PLUS_OUTPUT.part1/\""
   ]
  },
  {
   "cell_type": "code",
   "execution_count": null,
   "metadata": {
    "collapsed": false
   },
   "outputs": [],
   "source": [
    "#test = \"RefBldgFullServiceRestaurantNew2004_v1.3_7.1_5B_USA_CO_BOULDER.csv\"\n",
    "#df = make_df(folder + test)"
   ]
  },
  {
   "cell_type": "code",
   "execution_count": 13,
   "metadata": {
    "collapsed": false
   },
   "outputs": [
    {
     "name": "stderr",
     "output_type": "stream",
     "text": [
      "[========================================================================================= ]  98%"
     ]
    },
    {
     "name": "stdout",
     "output_type": "stream",
     "text": [
      "DONE\n"
     ]
    }
   ],
   "source": [
    "df = make_buildings_dataset(\"COMMERCIAL/\")"
   ]
  },
  {
   "cell_type": "code",
   "execution_count": 14,
   "metadata": {
    "collapsed": true
   },
   "outputs": [],
   "source": [
    "df.to_csv(\"all_data.csv\")"
   ]
  },
  {
   "cell_type": "code",
   "execution_count": null,
   "metadata": {
    "collapsed": true
   },
   "outputs": [],
   "source": [
    "root = \"COMMERCIAL/\"\n",
    "subroots = get_subroots(root)\n",
    "subroot = subroots[2]"
   ]
  },
  {
   "cell_type": "code",
   "execution_count": null,
   "metadata": {
    "collapsed": false
   },
   "outputs": [],
   "source": [
    "folders = get_folders(\"COMMERCIAL/\" + subroot)"
   ]
  },
  {
   "cell_type": "code",
   "execution_count": null,
   "metadata": {
    "collapsed": false
   },
   "outputs": [],
   "source": [
    "folders[32]"
   ]
  },
  {
   "cell_type": "code",
   "execution_count": null,
   "metadata": {
    "collapsed": false
   },
   "outputs": [],
   "source": [
    "problem = get_files(path)[0]\n",
    "df = pd.read_csv(path + problem)"
   ]
  },
  {
   "cell_type": "code",
   "execution_count": null,
   "metadata": {
    "collapsed": false
   },
   "outputs": [],
   "source": [
    "df.head()"
   ]
  },
  {
   "cell_type": "code",
   "execution_count": null,
   "metadata": {
    "collapsed": false
   },
   "outputs": [],
   "source": [
    "path1 = root + subroot + folders[31]\n",
    "normal = get_files(path1)[0]\n",
    "df1 = pd.read_csv(path1 + normal)\n",
    "df1.head()"
   ]
  },
  {
   "cell_type": "code",
   "execution_count": null,
   "metadata": {
    "collapsed": false
   },
   "outputs": [],
   "source": [
    "path = root + subroot + folders[32]\n",
    "for file in get_files(path):\n",
    "    print(file)\n",
    "    make_building_feats(path + file)"
   ]
  },
  {
   "cell_type": "code",
   "execution_count": null,
   "metadata": {
    "collapsed": true
   },
   "outputs": [],
   "source": []
  },
  {
   "cell_type": "markdown",
   "metadata": {},
   "source": [
    "# ERROR:\n",
    "USA_CO_Alamosa.Muni.AP.724620_TMY3/\n",
    "in part 2"
   ]
  },
  {
   "cell_type": "code",
   "execution_count": null,
   "metadata": {
    "collapsed": true
   },
   "outputs": [],
   "source": [
    "buildings_feats_summer = buildings_feats"
   ]
  },
  {
   "cell_type": "code",
   "execution_count": null,
   "metadata": {
    "collapsed": true
   },
   "outputs": [],
   "source": [
    "buildings_feats.to_csv(\"buildings_feats_hours_summer.csv\")"
   ]
  },
  {
   "cell_type": "code",
   "execution_count": 16,
   "metadata": {
    "collapsed": false
   },
   "outputs": [
    {
     "data": {
      "text/plain": [
       "KMeans(copy_x=True, init='k-means++', max_iter=300, n_clusters=4, n_init=10,\n",
       "    n_jobs=1, precompute_distances='auto', random_state=None, tol=0.0001,\n",
       "    verbose=0)"
      ]
     },
     "execution_count": 16,
     "metadata": {},
     "output_type": "execute_result"
    }
   ],
   "source": [
    "from sklearn.cluster import KMeans\n",
    "cluster = KMeans(n_clusters=4)\n",
    "\n",
    "data = df[list(str(i) for i in range(1,24))]\n",
    "cluster.fit(data)"
   ]
  },
  {
   "cell_type": "code",
   "execution_count": null,
   "metadata": {
    "collapsed": true
   },
   "outputs": [],
   "source": [
    "for center in cluster.cluster_centers_:\n",
    "    plt.plot(center)\n",
    "    plt.show()"
   ]
  },
  {
   "cell_type": "code",
   "execution_count": null,
   "metadata": {
    "collapsed": false
   },
   "outputs": [],
   "source": [
    "buildings_kinds = buildings_feats.building_kind.unique()"
   ]
  },
  {
   "cell_type": "code",
   "execution_count": null,
   "metadata": {
    "collapsed": false
   },
   "outputs": [],
   "source": [
    "kind_peaks"
   ]
  },
  {
   "cell_type": "code",
   "execution_count": 17,
   "metadata": {
    "collapsed": false
   },
   "outputs": [
    {
     "data": {
      "text/html": [
       "<script>requirejs.config({paths: { 'plotly': ['https://cdn.plot.ly/plotly-latest.min']},});if(!window.Plotly) {{require(['plotly'],function(plotly) {window.Plotly=plotly;});}}</script>"
      ],
      "text/plain": [
       "<IPython.core.display.HTML object>"
      ]
     },
     "metadata": {},
     "output_type": "display_data"
    },
    {
     "data": {
      "text/html": [
       "<div id=\"47a99faa-43cb-4fb7-aa47-b91159eda882\" style=\"height: 525px; width: 100%;\" class=\"plotly-graph-div\"></div><script type=\"text/javascript\">require([\"plotly\"], function(Plotly) { window.PLOTLYENV=window.PLOTLYENV || {};window.PLOTLYENV.BASE_URL=\"https://plot.ly\";Plotly.newPlot(\"47a99faa-43cb-4fb7-aa47-b91159eda882\", [{\"name\": \"cluster 1\", \"x\": [1, 2, 3, 4, 5, 6, 7, 8, 9, 10, 11, 12, 13, 14, 15, 16, 17, 18, 19, 20, 21, 22, 23], \"y\": [0.23164613256005107, 0.22895351437703776, 0.22697953152357236, 0.22611746711600816, 0.22628190565116185, 0.21967908498495778, 0.3540626100564641, 0.4317554505923069, 0.6201935992474241, 0.7888595192891378, 0.8636937890488613, 0.8982616052907468, 0.9427479684522252, 0.9631695110360787, 0.9811657772238531, 0.9914995365634417, 0.9945493227848413, 0.9400824696274154, 0.7996058912393089, 0.7384368237301651, 0.7043841873225738, 0.3252221701017402, 0.24266943733034219], \"type\": \"scatter\"}, {\"name\": \"cluster 2\", \"x\": [1, 2, 3, 4, 5, 6, 7, 8, 9, 10, 11, 12, 13, 14, 15, 16, 17, 18, 19, 20, 21, 22, 23], \"y\": [0.4338409876253436, 0.4129565185008365, 0.38846439355571694, 0.3833720759204281, 0.4077789246702338, 0.4797816570990172, 0.6817062682163069, 0.791214161499339, 0.7599929567587316, 0.6947749429800548, 0.5748533076697547, 0.5818011336687376, 0.5892708283004546, 0.5867081383702579, 0.5917758839702072, 0.6049074375864073, 0.7024382404530449, 0.8238205269166843, 0.9283613906102166, 0.9395386119563742, 0.9947471017722835, 0.9235243837472136, 0.7270888362720589], \"type\": \"scatter\"}, {\"name\": \"cluster 3\", \"x\": [1, 2, 3, 4, 5, 6, 7, 8, 9, 10, 11, 12, 13, 14, 15, 16, 17, 18, 19, 20, 21, 22, 23], \"y\": [0.3512503323569857, 0.344556573303665, 0.34660520978267206, 0.34476036130142873, 0.3732432387197757, 0.38758924291422286, 0.5668031927404376, 0.6388412674625006, 0.8970567903461305, 0.9370652216092353, 0.9433813156483433, 0.9706608663504132, 0.9388918188775334, 0.973994575114665, 0.9661624404891891, 0.9648174354562995, 0.9734248275697845, 0.8022430485337374, 0.6470227333982408, 0.6400194935722308, 0.6018171115302287, 0.5159580511213403, 0.358648993904466], \"type\": \"scatter\"}, {\"name\": \"cluster 4\", \"x\": [1, 2, 3, 4, 5, 6, 7, 8, 9, 10, 11, 12, 13, 14, 15, 16, 17, 18, 19, 20, 21, 22, 23], \"y\": [0.5348520236431469, 0.4248314230776391, 0.4246154596017534, 0.4241676828352667, 0.44626093506495434, 0.5436185798096154, 0.842959324217369, 0.8983154685591305, 0.8523928112801071, 0.8192917658526364, 0.9409079052134308, 0.9768031984494617, 0.9701108955335586, 0.9235650453579617, 0.8601342565837281, 0.8541305007938067, 0.9119714870313003, 0.9804771528833149, 0.9360753763295342, 0.8852873851659057, 0.8028445698483214, 0.7880852785286361, 0.7651991374731173], \"type\": \"scatter\"}], {\"title\": \"Loads Clustering\", \"xaxis\": {\"title\": \"H of day\", \"range\": [0, 23]}, \"yaxis\": {\"title\": \"Scaled consumption\", \"range\": [0, 1.2]}}, {\"linkText\": \"Export to plot.ly\", \"showLink\": true})});</script>"
      ],
      "text/plain": [
       "<IPython.core.display.HTML object>"
      ]
     },
     "metadata": {},
     "output_type": "display_data"
    }
   ],
   "source": [
    "import plotly as py\n",
    "import plotly.graph_objs as go\n",
    "from plotly.offline import download_plotlyjs, init_notebook_mode, plot, iplot\n",
    "init_notebook_mode(connected=True) #enables plotly offline plotting\n",
    "py.tools.set_credentials_file(username='gianlucahmd', api_key=open('../plotly_key.txt', \"r\").read())\n",
    "\n",
    "data = []\n",
    "n = 1\n",
    "for center in cluster.cluster_centers_:\n",
    "    data.append(go.Scatter(\n",
    "            x = list(range(1,24)),\n",
    "            y = center,\n",
    "            name = \"cluster \" + str(n),\n",
    "        ))\n",
    "    n += 1\n",
    "\n",
    "layout = go.Layout(\n",
    "    title = \"Loads Clustering\",\n",
    "    xaxis = dict(\n",
    "        title = \"H of day\",\n",
    "        range = [0,23]\n",
    "    ),\n",
    "    yaxis = dict(\n",
    "        title = \"Scaled consumption\",\n",
    "        range = [0,1.2]\n",
    "    ))\n",
    "\n",
    "fig = go.Figure(data = data, layout = layout)\n",
    "iplot(fig)"
   ]
  },
  {
   "cell_type": "markdown",
   "metadata": {},
   "source": [
    "# Notes:\n",
    "* It's impossible to separate all working days perfectly, since for instance the school in  RefBldgSecondarySchoolNew2004_v1.3_7.1_5B_USA_CO_BOULDER.csv on Presidents' Day was open for some kind of activity...\n",
    "* test different seasons for different states with different climates"
   ]
  },
  {
   "cell_type": "code",
   "execution_count": null,
   "metadata": {
    "collapsed": false,
    "scrolled": false
   },
   "outputs": [],
   "source": [
    "for file in files:\n",
    "    plot_range(folder, file, \"2004-01-01\",\"2004-12-31\")"
   ]
  },
  {
   "cell_type": "markdown",
   "metadata": {},
   "source": [
    "# Features:\n",
    "* building kind!!! (school, office, house, etc)\n",
    "* city code"
   ]
  }
 ],
 "metadata": {
  "anaconda-cloud": {},
  "kernelspec": {
   "display_name": "Python 3",
   "language": "python",
   "name": "python3"
  },
  "language_info": {
   "codemirror_mode": {
    "name": "ipython",
    "version": 3
   },
   "file_extension": ".py",
   "mimetype": "text/x-python",
   "name": "python",
   "nbconvert_exporter": "python",
   "pygments_lexer": "ipython3",
   "version": "3.5.2"
  }
 },
 "nbformat": 4,
 "nbformat_minor": 1
}
