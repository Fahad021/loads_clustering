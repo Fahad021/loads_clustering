{
 "cells": [
  {
   "cell_type": "code",
   "execution_count": 1,
   "metadata": {
    "collapsed": true
   },
   "outputs": [],
   "source": [
    "import os\n",
    "import pandas as pd\n",
    "import datetime\n",
    "\n",
    "%matplotlib inline\n",
    "import matplotlib\n",
    "import numpy as np\n",
    "import matplotlib.pyplot as plt"
   ]
  },
  {
   "cell_type": "code",
   "execution_count": 2,
   "metadata": {
    "collapsed": false
   },
   "outputs": [],
   "source": [
    "from explorer import get_folders, get_files\n",
    "from make_df import make_df\n",
    "from calendar_funcs import get_workdays, get_all_days, get_not_workdays\n",
    "from make_calendar_df import get_business_df, get_not_working_df\n",
    "from plot_funcs import plot_range, plot_day\n",
    "from building_func import get_building_kind, get_building_state, get_building_city\n",
    "from get_peaks import get_peaks\n",
    "from make_building_model import make_building_model"
   ]
  },
  {
   "cell_type": "code",
   "execution_count": 3,
   "metadata": {
    "collapsed": true
   },
   "outputs": [],
   "source": [
    "root = \"COMMERCIAL_LOAD_DATA_E_PLUS_OUTPUT.part1\""
   ]
  },
  {
   "cell_type": "code",
   "execution_count": 4,
   "metadata": {
    "collapsed": false
   },
   "outputs": [],
   "source": [
    "#test = \"RefBldgFullServiceRestaurantNew2004_v1.3_7.1_5B_USA_CO_BOULDER.csv\"\n",
    "#df = make_df(folder + test)"
   ]
  },
  {
   "cell_type": "markdown",
   "metadata": {},
   "source": [
    "# TO DO:\n",
    "* remove minmaxscaler from make_building_model\n",
    "* save avg and max load"
   ]
  },
  {
   "cell_type": "code",
   "execution_count": 35,
   "metadata": {
    "collapsed": false
   },
   "outputs": [],
   "source": [
    "import pandas as pd\n",
    "from explorer import get_files, get_folders\n",
    "from make_building_model import make_building_model\n",
    "from get_peaks import get_peaks\n",
    "\n",
    "\n",
    "def make_building_feats(root):\n",
    "\n",
    "    buildings_feats = pd.DataFrame()\n",
    "    folders = get_folders(root)[0:2]\n",
    "    \n",
    "    i=1\n",
    "    for folder in folders:\n",
    "        \n",
    "        print(\"modelizing folder\", i, \"out of\", len(folders))\n",
    "        print(\"----------------------------------------\")\n",
    "#        print(folder)\n",
    "        i+=1\n",
    "        \n",
    "        files = get_files(root + \"/\" + folder)\n",
    "        for file in files:\n",
    "#            print(file)\n",
    "            building_model = make_building_model(root + \"/\" + folder + \"/\", file)\n",
    "            electricity_cons = building_model[\"Electricity:Facility [kW](Hourly)\"]\n",
    "            peaks = get_peaks(electricity_cons)\n",
    "\n",
    "            buildings_feats = buildings_feats.append({\n",
    "                \"building_kind\" : get_building_kind(file),\n",
    "                \"building_state\" : get_building_state(file),\n",
    "                \"building_city\" : get_building_city(file),\n",
    "                \"n_peaks\" : peaks[\"number\"],\n",
    "                \"time_peaks\" : peaks[\"times\"],\n",
    "                \"std_dev\" : electricity_cons.std(),\n",
    "                \"highest_peak_time\" : electricity_cons.idxmax(),\n",
    "                \"file_path\" : root + \"/\" + folder + \"/\" + file,\n",
    "            }, ignore_index = True)\n",
    "            \n",
    "    print(\"DONE\")\n",
    "    return buildings_feats"
   ]
  },
  {
   "cell_type": "code",
   "execution_count": 36,
   "metadata": {
    "collapsed": false
   },
   "outputs": [
    {
     "name": "stdout",
     "output_type": "stream",
     "text": [
      "modelizing folder 1 out of 2\n",
      "----------------------------------------\n",
      "modelizing folder 2 out of 2\n",
      "----------------------------------------\n",
      "DONE\n"
     ]
    }
   ],
   "source": [
    "buildings_feats = make_building_feats(root)"
   ]
  },
  {
   "cell_type": "code",
   "execution_count": 38,
   "metadata": {
    "collapsed": true
   },
   "outputs": [],
   "source": [
    "buildings_feats_scaled = buildings_feats"
   ]
  },
  {
   "cell_type": "code",
   "execution_count": 39,
   "metadata": {
    "collapsed": true
   },
   "outputs": [],
   "source": [
    "buildings_feats_scaled.to_csv(\"buildings_feats_scaled.csv\")"
   ]
  },
  {
   "cell_type": "code",
   "execution_count": null,
   "metadata": {
    "collapsed": false,
    "scrolled": false
   },
   "outputs": [],
   "source": [
    "for file in files:\n",
    "    plt.plot(make_building_model(folder, file)[\"Electricity:Facility [kW](Hourly)\"])\n",
    "    plt.show()"
   ]
  },
  {
   "cell_type": "markdown",
   "metadata": {},
   "source": [
    "# Notes:\n",
    "* It's impossible to separate all working days perfectly, since for instance the school in  RefBldgSecondarySchoolNew2004_v1.3_7.1_5B_USA_CO_BOULDER.csv on Presidents' Day was open for some kind of activity..."
   ]
  },
  {
   "cell_type": "code",
   "execution_count": null,
   "metadata": {
    "collapsed": false,
    "scrolled": false
   },
   "outputs": [],
   "source": [
    "for file in files:\n",
    "    plot_range(folder, file, \"2004-01-01\",\"2004-12-31\")"
   ]
  },
  {
   "cell_type": "markdown",
   "metadata": {},
   "source": [
    "# Features:\n",
    "* building kind!!! (school, office, house, etc)\n",
    "* city code"
   ]
  }
 ],
 "metadata": {
  "anaconda-cloud": {},
  "kernelspec": {
   "display_name": "Python 3",
   "language": "python",
   "name": "python3"
  },
  "language_info": {
   "codemirror_mode": {
    "name": "ipython",
    "version": 3
   },
   "file_extension": ".py",
   "mimetype": "text/x-python",
   "name": "python",
   "nbconvert_exporter": "python",
   "pygments_lexer": "ipython3",
   "version": "3.5.2"
  }
 },
 "nbformat": 4,
 "nbformat_minor": 1
}
